{
 "cells": [
  {
   "cell_type": "markdown",
   "metadata": {},
   "source": [
    "# Principal Component Analysis... without np.linalg.eig()\n",
    "\n",
    "PCA is a form of unsupervised data compression. It aims to find the directions of maximum statistical variance in a high dimensional space and use these directions to project the data to a lower dimensional space. The axis of the  subspace can be thought of as the directions of maximum variance in a dataset as achieved under the constraint that these new axis be orthogonal to each other.\n",
    "\n",
    "Given a dataset of *d* feature dimensions, we can project the dataset onto a subspace of *k* feature dimensions using a projection martrix of *d* x *k* dimensions. To build the projection matrix we must first create a *d* x *d* covariance matrix and then find the top eigenvalues and vectors for the covariance matrix. The projection matrix is a concatencation of the top *k* eigenvectors with the greatest respective eigenvalues. \n",
    "\n",
    "In this notebook I will demonstrate how to find the eigenvalues and eigenvectors without use of numpy's eig() function, instead using an eigenvalue algorithm known as **power iteration**.\n",
    "\n"
   ]
  },
  {
   "cell_type": "code",
   "execution_count": 29,
   "metadata": {
    "collapsed": true
   },
   "outputs": [],
   "source": [
    "from matplotlib import pyplot as plt\n",
    "import pandas as pd\n",
    "import numpy as np\n",
    "%matplotlib inline"
   ]
  },
  {
   "cell_type": "markdown",
   "metadata": {},
   "source": [
    "### Import and Preprocess Data\n",
    "\n",
    "The dataset here is on the charactistics of the kernels from three different varieties of <s>linux</s> wheat.\n",
    "<p>\n",
    "<tiny>[Dataset description and download page.](https://archive.ics.uci.edu/ml/datasets/seeds)</tiny>"
   ]
  },
  {
   "cell_type": "code",
   "execution_count": 30,
   "metadata": {
    "collapsed": false
   },
   "outputs": [],
   "source": [
    "#import from tsv file\n",
    "df = pd.read_csv('./seeds_dataset.tsv', header=None, sep='\\t')\n",
    "\n",
    "#add column labels\n",
    "df.columns = ['seed-area','seed-perimeter','seed-compactness',\n",
    "              'kernel-length','kernel-width','asymmetry-coefficient',\n",
    "              'kernel-groove-length','class']\n",
    "\n",
    "#replace integer classes with the name of the wheat varietal\n",
    "df['class'] = df['class'].replace(to_replace=[1,2,3],\n",
    "                                  value=[\"Kama\",\"Rosa\",\"Canadian\"])\n"
   ]
  },
  {
   "cell_type": "markdown",
   "metadata": {},
   "source": [
    "### Standardize the Dataset"
   ]
  },
  {
   "cell_type": "code",
   "execution_count": 31,
   "metadata": {
    "collapsed": true
   },
   "outputs": [],
   "source": [
    "X = df.ix[:,0:7].values\n",
    "\n",
    "# mean = 0, variance = 1\n",
    "X = (X - np.mean(X, axis=0)) / np.std(X, axis=0)\n",
    "\n",
    "y = df.ix[:,7].values"
   ]
  },
  {
   "cell_type": "markdown",
   "metadata": {},
   "source": [
    "### Construct the Covariance Matrix"
   ]
  },
  {
   "cell_type": "code",
   "execution_count": 32,
   "metadata": {
    "collapsed": false,
    "scrolled": true
   },
   "outputs": [
    {
     "name": "stdout",
     "output_type": "stream",
     "text": [
      "[[ 1.00478469  0.99909854  0.61119889  0.9545308   0.97541544 -0.23067077\n",
      "   0.86782525]\n",
      " [ 0.99909854  1.00478469  0.53177587  0.97707507  0.94935008 -0.21838028\n",
      "   0.89504603]\n",
      " [ 0.61119889  0.53177587  1.00478469  0.36967551  0.7652787  -0.33305686\n",
      "   0.22791011]\n",
      " [ 0.9545308   0.97707507  0.36967551  1.00478469  0.86453176 -0.1723833\n",
      "   0.93726927]\n",
      " [ 0.97541544  0.94935008  0.7652787   0.86453176  1.00478469 -0.25927117\n",
      "   0.75271583]\n",
      " [-0.23067077 -0.21838028 -0.33305686 -0.1723833  -0.25927117  1.00478469\n",
      "  -0.01113203]\n",
      " [ 0.86782525  0.89504603  0.22791011  0.93726927  0.75271583 -0.01113203\n",
      "   1.00478469]]\n"
     ]
    }
   ],
   "source": [
    "mean_vector       = np.mean(X, axis=0)\n",
    "covariance_matrix = (X - mean_vector).T.dot((X - mean_vector)) / (X.shape[0]-1)\n",
    "print(covariance_matrix)"
   ]
  },
  {
   "cell_type": "markdown",
   "metadata": {
    "collapsed": true
   },
   "source": [
    "### Decompose the Covariance Matrix into its Eigenvectors and Eigenvalues \n",
    "## WITHOUT USING np.linalg.eig()"
   ]
  },
  {
   "cell_type": "code",
   "execution_count": 33,
   "metadata": {
    "collapsed": true
   },
   "outputs": [],
   "source": [
    "def power_iteration(matrix):\n",
    "    # construct a vector of noise that will become the eigenvector after n iterations\n",
    "    vec = np.random.rand(matrix.shape[0])\n",
    "    \n",
    "    # set number of iterations for the vector to converge on the eigenvector values\n",
    "    iterations = 10000\n",
    "    \n",
    "    for _ in range(iterations):\n",
    "        # calculate the matrix by vector product\n",
    "        product = np.dot(matrix, vec)\n",
    "        \n",
    "        # calculate the norm\n",
    "        vec_norm = np.linalg.norm(product)\n",
    "        \n",
    "        # renormalize the vector\n",
    "        vec = product / vec_norm\n",
    "    \n",
    "    eigenvector = np.array([vec]).T\n",
    "    eigenvalue  = vec_norm\n",
    "    \n",
    "    return eigenvector, eigenvalue\n",
    "\n",
    "def deflate_matrix(matrix, eigenvector, eigenvalue):\n",
    "    \n",
    "    u = np.divide(eigenvector, np.linalg.norm(eigenvector))\n",
    "    deflated_matrix = matrix - (eigenvalue * u.dot(u.T))\n",
    "    \n",
    "    return deflated_matrix"
   ]
  },
  {
   "cell_type": "markdown",
   "metadata": {},
   "source": [
    "### What is going on here??\n",
    "\n",
    "Given: $Ax = \\lambda x$ <p>\n",
    "Where: $A$ is our matrix being input into the power_iteration fnx and $\\lambda$ is the eigenvalue we are searching for.\n",
    "\n",
    "We can take advantage of: <p>\n",
    "$x_{i+1} = \\frac{Ax_{i}}{||Ax_{i}||}$ <p>\n",
    "and <p>\n",
    "$\\lambda_{i+1} = ||Ax_{i}||$ <p>\n",
    "<p>\n",
    "\n",
    "\n",
    "\n",
    "\n",
    "On every iteration we move from $i$ to $i + 1$ in the system of equations above and we\n",
    "converge on the largest eigenvalue $\\lambda$ which is calculated in the code by the np.linalg.norm() function. The eigenvector is approxmiated when we normalize the vector at the end of the for loop.\n",
    "\n",
    "For an *n* by *n* matrix there are *n* eigenvectors and eigenvalues that we can find. To find the next largest eigenpair, we run the deflate matrix function. This shrinks the matrix in its *n* dimensional space by subtracting out the largest eigenvalue from this space allowing us to use power iteration to converge on the next largest eigenpair. We then feed this deflated matrix into the power iteration function to find the next eigenpair, repeating until we have *n* eigenpairs.\n",
    "\n",
    "For more info on power iteration and matrix deflation please see my references section."
   ]
  },
  {
   "cell_type": "code",
   "execution_count": 34,
   "metadata": {
    "collapsed": true
   },
   "outputs": [],
   "source": [
    "def decompose_to_eigenpairs(matrix):\n",
    "    eigenvals = []\n",
    "    eigenvecs = []\n",
    "    for _ in range(matrix.shape[0]):\n",
    "        # perform power method on covariance matrix to retrieve eigenpair\n",
    "        vec, val = power_iteration(matrix)\n",
    "        # deflate matrix so we can get the next smallest eigenvalue on the next iteration\n",
    "        matrix = deflate_matrix(matrix, vec, val)\n",
    "        \n",
    "        # save eigenpair from this iteration\n",
    "        eigenvals.append(val)\n",
    "        eigenvecs.append(vec[:,0])\n",
    "        \n",
    "    eigenpairs = [(np.abs(eigenvals[i]), eigenvecs[i]) for i in range(matrix.shape[0])]\n",
    "    \n",
    "    return eigenpairs"
   ]
  },
  {
   "cell_type": "code",
   "execution_count": 35,
   "metadata": {
    "collapsed": false
   },
   "outputs": [
    {
     "name": "stdout",
     "output_type": "stream",
     "text": [
      "Eigenvalues in descending order:\n",
      "\n",
      "5.05527391892\n",
      "1.20330286059\n",
      "0.681247474172\n",
      "0.0686915797528\n",
      "0.0188031478018\n",
      "0.00535755786167\n",
      "0.0008162838655\n"
     ]
    }
   ],
   "source": [
    "eigenpairs = decompose_to_eigenpairs(covariance_matrix)\n",
    "\n",
    "print('Eigenvalues in descending order:\\n')\n",
    "for i in eigenpairs:\n",
    "    print(i[0])"
   ]
  },
  {
   "cell_type": "markdown",
   "metadata": {},
   "source": [
    "In the cell below, I will calculate the eigenpairs using np.linalg.eig() to prove that I am getting the proper eigenvalues for this dataset using the method above. I will not be using any values generated by np.linalg.eig() to create the projection matrix."
   ]
  },
  {
   "cell_type": "code",
   "execution_count": 36,
   "metadata": {
    "collapsed": false
   },
   "outputs": [
    {
     "name": "stdout",
     "output_type": "stream",
     "text": [
      "Eigenvalues, according to np.linalg.eig(), in descending order:\n",
      "5.05527391892\n",
      "1.20330286059\n",
      "0.681247474172\n",
      "0.0686915797528\n",
      "0.0188031478018\n",
      "0.00535755786167\n",
      "0.0008162838655\n"
     ]
    }
   ],
   "source": [
    "eigvals, eigvecs = np.linalg.eig(covariance_matrix)\n",
    "eigpairs_via_numpy = [(np.abs(eigvals[i]), eigvecs[:,i]) for i in range(len(eigvals))]\n",
    "eigpairs_via_numpy.sort(key=lambda x: x[0], reverse=True)\n",
    "\n",
    "print('Eigenvalues, according to np.linalg.eig(), in descending order:')\n",
    "for i in eigpairs_via_numpy:\n",
    "    print(i[0])\n"
   ]
  },
  {
   "cell_type": "markdown",
   "metadata": {},
   "source": [
    "As you can see the resulting eigenvalues are identical! The power method works.\n",
    "\n",
    "The eigenvectors values are the same as well:"
   ]
  },
  {
   "cell_type": "code",
   "execution_count": 37,
   "metadata": {
    "collapsed": false
   },
   "outputs": [
    {
     "name": "stdout",
     "output_type": "stream",
     "text": [
      "Eigenvector 1:\n",
      "[ 0.44447352  0.44157147  0.27701737  0.42356333  0.43281866 -0.11869248\n",
      "  0.38716084]\n",
      "[ 0.44447352  0.44157147  0.27701737  0.42356333  0.43281866 -0.11869248\n",
      "  0.38716084]\n",
      "Eigenvector 2:\n",
      "[ 0.02656355  0.08400282 -0.52915125  0.20597518 -0.11668963  0.71688203\n",
      "  0.37719327]\n",
      "[ 0.02656355  0.08400282 -0.52915125  0.20597518 -0.11668963  0.71688203\n",
      "  0.37719327]\n",
      "Eigenvector 3:\n",
      "[ 0.02587094 -0.05983912  0.62969178 -0.21187966  0.21648338  0.67950584\n",
      " -0.2138972 ]\n",
      "[-0.02587094  0.05983912 -0.62969178  0.21187966 -0.21648338 -0.67950584\n",
      "  0.2138972 ]\n",
      "Eigenvector 4:\n",
      "[ 0.19363997  0.29545659 -0.3328164   0.26340659  0.19963039  0.09246481\n",
      " -0.80414995]\n",
      "[ 0.19363997  0.29545659 -0.3328164   0.26340659  0.19963039  0.09246481\n",
      " -0.80414995]\n",
      "Eigenvector 5:\n",
      "[-0.20441167 -0.17427591  0.33265481  0.76609839 -0.46536555  0.03625822\n",
      " -0.11134657]\n",
      "[ 0.20441167  0.17427591 -0.33265481 -0.76609839  0.46536555 -0.03625822\n",
      "  0.11134657]\n",
      "Eigenvector 6:\n",
      "[-0.42643686 -0.47623853 -0.14162884  0.27357647  0.70301171 -0.01964186\n",
      "  0.04282974]\n",
      "[-0.42643686 -0.47623853 -0.14162884  0.27357647  0.70301171 -0.01964186\n",
      "  0.04282974]\n",
      "Eigenvector 7:\n",
      "[-0.73480569  0.67075153  0.0725527  -0.04627605  0.03928908  0.00372346\n",
      "  0.0344981 ]\n",
      "[-0.73480569  0.67075153  0.0725527  -0.04627605  0.03928908  0.00372346\n",
      "  0.0344981 ]\n"
     ]
    }
   ],
   "source": [
    "for i in range(len(eigenpairs)):\n",
    "    print(\"Eigenvector %s:\" % str(i+1))\n",
    "    print(eigenpairs[i][1])\n",
    "    print(eigpairs_via_numpy[i][1])"
   ]
  },
  {
   "cell_type": "markdown",
   "metadata": {
    "collapsed": true
   },
   "source": [
    "### Select Number of Eigenpairs to Create Subspace"
   ]
  },
  {
   "cell_type": "code",
   "execution_count": 38,
   "metadata": {
    "collapsed": false
   },
   "outputs": [
    {
     "data": {
      "image/png": "[encoded data removed]",
      "text/plain": [
       "<matplotlib.figure.Figure at 0x7f6fa9857748>"
      ]
     },
     "metadata": {},
     "output_type": "display_data"
    }
   ],
   "source": [
    "eig_vals = [val[0] for val in eigenpairs]\n",
    "tot = sum(eig_vals)\n",
    "\n",
    "var_exp = [(i / tot)*100 for i in sorted(eig_vals, reverse=True)]\n",
    "cum_var_exp = np.cumsum(var_exp)\n",
    "\n",
    "\n",
    "with plt.style.context('seaborn-whitegrid'):\n",
    "    plt.figure(figsize=(6, 7))\n",
    "\n",
    "    plt.bar(range(7), var_exp, alpha=0.5, align='center',\n",
    "            label='individual explained variance')\n",
    "    plt.step(range(7), cum_var_exp, where='mid',\n",
    "             label='cumulative explained variance')\n",
    "    plt.ylabel('Explained variance ratio')\n",
    "    plt.xlabel('Principal components')\n",
    "    plt.legend(loc='best')\n",
    "    plt.tight_layout()"
   ]
  },
  {
   "cell_type": "markdown",
   "metadata": {},
   "source": [
    "Here we can see that the first two pricinpal components explain nearly 90% of the variance among the data. We should be able to visualize the three different classes in our data well in two dimensions. "
   ]
  },
  {
   "cell_type": "markdown",
   "metadata": {},
   "source": [
    "### Construct a Projection Matrix from Top Eigenvectors "
   ]
  },
  {
   "cell_type": "code",
   "execution_count": 39,
   "metadata": {
    "collapsed": false
   },
   "outputs": [
    {
     "name": "stdout",
     "output_type": "stream",
     "text": [
      "Projection Matrix:\n",
      " [[ 0.44447352  0.02656355]\n",
      " [ 0.44157147  0.08400282]\n",
      " [ 0.27701737 -0.52915125]\n",
      " [ 0.42356333  0.20597518]\n",
      " [ 0.43281866 -0.11668963]\n",
      " [-0.11869248  0.71688203]\n",
      " [ 0.38716084  0.37719327]]\n"
     ]
    }
   ],
   "source": [
    "matrix_w = np.hstack((eigenpairs[0][1].reshape(7,1),eigenpairs[1][1].reshape(7,1)))\n",
    "\n",
    "print(\"Projection Matrix:\\n\", matrix_w)"
   ]
  },
  {
   "cell_type": "markdown",
   "metadata": {},
   "source": [
    "### Transform Original Dataset into Compressed Subspace"
   ]
  },
  {
   "cell_type": "code",
   "execution_count": 40,
   "metadata": {
    "collapsed": true
   },
   "outputs": [],
   "source": [
    "Y = X.dot(matrix_w)"
   ]
  },
  {
   "cell_type": "markdown",
   "metadata": {},
   "source": [
    "### Plot Subspace"
   ]
  },
  {
   "cell_type": "code",
   "execution_count": 41,
   "metadata": {
    "collapsed": false
   },
   "outputs": [
    {
     "data": {
      "image/png": "[encoded data removed]",
      "text/plain": [
       "<matplotlib.figure.Figure at 0x7f6fad0ed400>"
      ]
     },
     "metadata": {},
     "output_type": "display_data"
    }
   ],
   "source": [
    "with plt.style.context('seaborn-whitegrid'):\n",
    "    plt.figure(figsize=(6, 4))\n",
    "    for lab, col in zip(('Kama', 'Rosa', 'Canadian'), \n",
    "                        ('blue', 'red', 'green')):\n",
    "        plt.scatter(Y[y==lab, 0],\n",
    "                    Y[y==lab, 1],\n",
    "                    label=lab,\n",
    "                    c=col)\n",
    "    plt.xlabel('Principal Component 1')\n",
    "    plt.ylabel('Principal Component 2')\n",
    "    plt.legend(loc='lower right')\n",
    "    plt.tight_layout()"
   ]
  },
  {
   "cell_type": "markdown",
   "metadata": {},
   "source": [
    "### References\n",
    "\n",
    "* https://www.youtube.com/watch?v=Yhs0Fcpv6y4&t=322s\n",
    "* https://en.wikipedia.org/wiki/Power_iteration\n",
    "* http://distance-ed.math.tamu.edu/Math640/chapter6/node4.html"
   ]
  },
  {
   "cell_type": "code",
   "execution_count": null,
   "metadata": {
    "collapsed": true
   },
   "outputs": [],
   "source": []
  }
 ],
 "metadata": {
  "kernelspec": {
   "display_name": "Python 3",
   "language": "python",
   "name": "python3"
  },
  "language_info": {
   "codemirror_mode": {
    "name": "ipython",
    "version": 3
   },
   "file_extension": ".py",
   "mimetype": "text/x-python",
   "name": "python",
   "nbconvert_exporter": "python",
   "pygments_lexer": "ipython3",
   "version": "3.5.0"
  }
 },
 "nbformat": 4,
 "nbformat_minor": 2
}
