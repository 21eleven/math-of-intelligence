{
 "cells": [
  {
   "cell_type": "markdown",
   "metadata": {},
   "source": [
    "# Bayesian Optimization of Neural Network Learning Rate\n",
    "\n",
    "Here a single node neural network is used to evaluate the correlation between the Google Trends score of \"bitcoin\" and the price of BTC on the Bitfinex exchange over time. \n",
    "\n",
    "The learning rate of this neural network will be optimized using bayesian optimization."
   ]
  },
  {
   "cell_type": "code",
   "execution_count": 260,
   "metadata": {
    "collapsed": false
   },
   "outputs": [],
   "source": [
    "import numpy as np\n",
    "import pandas as pd\n",
    "import matplotlib.pyplot as plt\n",
    "\n",
    "%matplotlib inline"
   ]
  },
  {
   "cell_type": "markdown",
   "metadata": {},
   "source": [
    "## Data Preprocessing\n",
    "\n",
    "I collected two CSVs for this investigation. The first details the daily prices of Bitcoin in USD on Bitfinex, a major bitcoin exchange. The second states the Google Trends score for the \"bitcoin\" search term on a weekly basis. \n",
    "\n",
    "I trucated these datasets to only include information between Apri 20th 2014 and July 29th 2017, the days from the full weeks that Bitfinex price data has been available.\n",
    "\n",
    "Then I matched a Bitcoin price that corresponds with each week in the Google Trends dataset. This doesn't give us a perfect averge of the BTC/USD price for each week but it does give us an accurate idea of what the price was like for the weekly time period. \n"
   ]
  },
  {
   "cell_type": "code",
   "execution_count": 261,
   "metadata": {
    "collapsed": true
   },
   "outputs": [],
   "source": [
    "bitfinex_prices = pd.read_csv(\"./bitfinex-USDprice.csv\")"
   ]
  },
  {
   "cell_type": "code",
   "execution_count": 262,
   "metadata": {
    "collapsed": false
   },
   "outputs": [
    {
     "data": {
      "text/html": [
       "<div>\n",
       "<table border=\"1\" class=\"dataframe\">\n",
       "  <thead>\n",
       "    <tr style=\"text-align: right;\">\n",
       "      <th></th>\n",
       "      <th>Date</th>\n",
       "      <th>High</th>\n",
       "      <th>Low</th>\n",
       "      <th>Mid</th>\n",
       "      <th>Last</th>\n",
       "      <th>Bid</th>\n",
       "      <th>Ask</th>\n",
       "      <th>Volume</th>\n",
       "    </tr>\n",
       "  </thead>\n",
       "  <tbody>\n",
       "    <tr>\n",
       "      <th>0</th>\n",
       "      <td>2017-07-29</td>\n",
       "      <td>2800.0</td>\n",
       "      <td>2662.000000</td>\n",
       "      <td>2699.15</td>\n",
       "      <td>2699.0</td>\n",
       "      <td>2698.9</td>\n",
       "      <td>2699.4</td>\n",
       "      <td>23981.380002</td>\n",
       "    </tr>\n",
       "    <tr>\n",
       "      <th>1</th>\n",
       "      <td>2017-07-28</td>\n",
       "      <td>2820.0</td>\n",
       "      <td>2651.000000</td>\n",
       "      <td>2787.45</td>\n",
       "      <td>2787.5</td>\n",
       "      <td>2787.4</td>\n",
       "      <td>2787.5</td>\n",
       "      <td>41395.612215</td>\n",
       "    </tr>\n",
       "    <tr>\n",
       "      <th>2</th>\n",
       "      <td>2017-07-27</td>\n",
       "      <td>2679.7</td>\n",
       "      <td>2503.208416</td>\n",
       "      <td>2679.65</td>\n",
       "      <td>2679.5</td>\n",
       "      <td>2679.6</td>\n",
       "      <td>2679.7</td>\n",
       "      <td>31654.750873</td>\n",
       "    </tr>\n",
       "    <tr>\n",
       "      <th>3</th>\n",
       "      <td>2017-07-26</td>\n",
       "      <td>2612.0</td>\n",
       "      <td>2404.000000</td>\n",
       "      <td>2511.05</td>\n",
       "      <td>2511.0</td>\n",
       "      <td>2511.0</td>\n",
       "      <td>2511.1</td>\n",
       "      <td>32960.766795</td>\n",
       "    </tr>\n",
       "    <tr>\n",
       "      <th>4</th>\n",
       "      <td>2017-07-25</td>\n",
       "      <td>2790.1</td>\n",
       "      <td>2417.000000</td>\n",
       "      <td>2541.95</td>\n",
       "      <td>2542.1</td>\n",
       "      <td>2541.9</td>\n",
       "      <td>2542.0</td>\n",
       "      <td>55775.638086</td>\n",
       "    </tr>\n",
       "  </tbody>\n",
       "</table>\n",
       "</div>"
      ],
      "text/plain": [
       "         Date    High          Low      Mid    Last     Bid     Ask  \\\n",
       "0  2017-07-29  2800.0  2662.000000  2699.15  2699.0  2698.9  2699.4   \n",
       "1  2017-07-28  2820.0  2651.000000  2787.45  2787.5  2787.4  2787.5   \n",
       "2  2017-07-27  2679.7  2503.208416  2679.65  2679.5  2679.6  2679.7   \n",
       "3  2017-07-26  2612.0  2404.000000  2511.05  2511.0  2511.0  2511.1   \n",
       "4  2017-07-25  2790.1  2417.000000  2541.95  2542.1  2541.9  2542.0   \n",
       "\n",
       "         Volume  \n",
       "0  23981.380002  \n",
       "1  41395.612215  \n",
       "2  31654.750873  \n",
       "3  32960.766795  \n",
       "4  55775.638086  "
      ]
     },
     "execution_count": 262,
     "metadata": {},
     "output_type": "execute_result"
    }
   ],
   "source": [
    "bitfinex_prices.head()"
   ]
  },
  {
   "cell_type": "code",
   "execution_count": 263,
   "metadata": {
    "collapsed": false
   },
   "outputs": [
    {
     "data": {
      "text/html": [
       "<div>\n",
       "<table border=\"1\" class=\"dataframe\">\n",
       "  <thead>\n",
       "    <tr style=\"text-align: right;\">\n",
       "      <th></th>\n",
       "      <th>Date</th>\n",
       "      <th>High</th>\n",
       "      <th>Low</th>\n",
       "      <th>Mid</th>\n",
       "      <th>Last</th>\n",
       "      <th>Bid</th>\n",
       "      <th>Ask</th>\n",
       "      <th>Volume</th>\n",
       "    </tr>\n",
       "  </thead>\n",
       "  <tbody>\n",
       "    <tr>\n",
       "      <th>1163</th>\n",
       "      <td>2014-04-24</td>\n",
       "      <td>498.8396</td>\n",
       "      <td>480.16</td>\n",
       "      <td>497.490000</td>\n",
       "      <td>497.98</td>\n",
       "      <td>497.000000</td>\n",
       "      <td>497.980000</td>\n",
       "      <td>4316.108888</td>\n",
       "    </tr>\n",
       "    <tr>\n",
       "      <th>1164</th>\n",
       "      <td>2014-04-23</td>\n",
       "      <td>496.0000</td>\n",
       "      <td>482.88</td>\n",
       "      <td>490.819500</td>\n",
       "      <td>490.03</td>\n",
       "      <td>490.040000</td>\n",
       "      <td>491.599000</td>\n",
       "      <td>4716.703433</td>\n",
       "    </tr>\n",
       "    <tr>\n",
       "      <th>1165</th>\n",
       "      <td>2014-04-22</td>\n",
       "      <td>506.0000</td>\n",
       "      <td>488.80</td>\n",
       "      <td>491.300003</td>\n",
       "      <td>491.20</td>\n",
       "      <td>491.209991</td>\n",
       "      <td>491.390015</td>\n",
       "      <td>3105.516105</td>\n",
       "    </tr>\n",
       "    <tr>\n",
       "      <th>1166</th>\n",
       "      <td>2014-04-21</td>\n",
       "      <td>515.6460</td>\n",
       "      <td>485.00</td>\n",
       "      <td>497.090000</td>\n",
       "      <td>497.00</td>\n",
       "      <td>497.000000</td>\n",
       "      <td>497.180000</td>\n",
       "      <td>8132.144453</td>\n",
       "    </tr>\n",
       "    <tr>\n",
       "      <th>1167</th>\n",
       "      <td>2014-04-20</td>\n",
       "      <td>517.9950</td>\n",
       "      <td>492.20</td>\n",
       "      <td>500.745753</td>\n",
       "      <td>501.44</td>\n",
       "      <td>500.071506</td>\n",
       "      <td>501.420000</td>\n",
       "      <td>4921.588803</td>\n",
       "    </tr>\n",
       "  </tbody>\n",
       "</table>\n",
       "</div>"
      ],
      "text/plain": [
       "            Date      High     Low         Mid    Last         Bid  \\\n",
       "1163  2014-04-24  498.8396  480.16  497.490000  497.98  497.000000   \n",
       "1164  2014-04-23  496.0000  482.88  490.819500  490.03  490.040000   \n",
       "1165  2014-04-22  506.0000  488.80  491.300003  491.20  491.209991   \n",
       "1166  2014-04-21  515.6460  485.00  497.090000  497.00  497.000000   \n",
       "1167  2014-04-20  517.9950  492.20  500.745753  501.44  500.071506   \n",
       "\n",
       "             Ask       Volume  \n",
       "1163  497.980000  4316.108888  \n",
       "1164  491.599000  4716.703433  \n",
       "1165  491.390015  3105.516105  \n",
       "1166  497.180000  8132.144453  \n",
       "1167  501.420000  4921.588803  "
      ]
     },
     "execution_count": 263,
     "metadata": {},
     "output_type": "execute_result"
    }
   ],
   "source": [
    "bitfinex_prices.tail()"
   ]
  },
  {
   "cell_type": "code",
   "execution_count": 264,
   "metadata": {
    "collapsed": true
   },
   "outputs": [],
   "source": [
    "bitcoin = pd.read_csv('./googletrends-bitcoin.csv')"
   ]
  },
  {
   "cell_type": "code",
   "execution_count": 265,
   "metadata": {
    "collapsed": false
   },
   "outputs": [
    {
     "data": {
      "text/html": [
       "<div>\n",
       "<table border=\"1\" class=\"dataframe\">\n",
       "  <thead>\n",
       "    <tr style=\"text-align: right;\">\n",
       "      <th></th>\n",
       "      <th>Week</th>\n",
       "      <th>bitcoin</th>\n",
       "    </tr>\n",
       "  </thead>\n",
       "  <tbody>\n",
       "    <tr>\n",
       "      <th>0</th>\n",
       "      <td>2014-04-20</td>\n",
       "      <td>14</td>\n",
       "    </tr>\n",
       "    <tr>\n",
       "      <th>1</th>\n",
       "      <td>2014-04-27</td>\n",
       "      <td>14</td>\n",
       "    </tr>\n",
       "    <tr>\n",
       "      <th>2</th>\n",
       "      <td>2014-05-04</td>\n",
       "      <td>13</td>\n",
       "    </tr>\n",
       "    <tr>\n",
       "      <th>3</th>\n",
       "      <td>2014-05-11</td>\n",
       "      <td>12</td>\n",
       "    </tr>\n",
       "    <tr>\n",
       "      <th>4</th>\n",
       "      <td>2014-05-18</td>\n",
       "      <td>13</td>\n",
       "    </tr>\n",
       "  </tbody>\n",
       "</table>\n",
       "</div>"
      ],
      "text/plain": [
       "         Week  bitcoin\n",
       "0  2014-04-20       14\n",
       "1  2014-04-27       14\n",
       "2  2014-05-04       13\n",
       "3  2014-05-11       12\n",
       "4  2014-05-18       13"
      ]
     },
     "execution_count": 265,
     "metadata": {},
     "output_type": "execute_result"
    }
   ],
   "source": [
    "bitcoin.head()"
   ]
  },
  {
   "cell_type": "code",
   "execution_count": 266,
   "metadata": {
    "collapsed": false
   },
   "outputs": [],
   "source": [
    "weekly_price = []\n",
    "\n",
    "for week in bitcoin['Week']:\n",
    "    w = bitfinex_prices.loc[bitfinex_prices['Date'] == week]\n",
    "    price = w['High'].values\n",
    "    if len(price) == 0:\n",
    "        weekly_price.append(np.nan)\n",
    "    else:\n",
    "        weekly_price.append(price[0])\n",
    "     "
   ]
  },
  {
   "cell_type": "code",
   "execution_count": 267,
   "metadata": {
    "collapsed": true
   },
   "outputs": [],
   "source": [
    "bitcoin['Price'] = weekly_price"
   ]
  },
  {
   "cell_type": "code",
   "execution_count": 268,
   "metadata": {
    "collapsed": false
   },
   "outputs": [
    {
     "data": {
      "text/html": [
       "<div>\n",
       "<table border=\"1\" class=\"dataframe\">\n",
       "  <thead>\n",
       "    <tr style=\"text-align: right;\">\n",
       "      <th></th>\n",
       "      <th>Week</th>\n",
       "      <th>bitcoin</th>\n",
       "      <th>Price</th>\n",
       "    </tr>\n",
       "  </thead>\n",
       "  <tbody>\n",
       "    <tr>\n",
       "      <th>0</th>\n",
       "      <td>2014-04-20</td>\n",
       "      <td>14</td>\n",
       "      <td>517.9950</td>\n",
       "    </tr>\n",
       "    <tr>\n",
       "      <th>1</th>\n",
       "      <td>2014-04-27</td>\n",
       "      <td>14</td>\n",
       "      <td>465.6000</td>\n",
       "    </tr>\n",
       "    <tr>\n",
       "      <th>2</th>\n",
       "      <td>2014-05-04</td>\n",
       "      <td>13</td>\n",
       "      <td>441.9497</td>\n",
       "    </tr>\n",
       "    <tr>\n",
       "      <th>3</th>\n",
       "      <td>2014-05-11</td>\n",
       "      <td>12</td>\n",
       "      <td>459.6500</td>\n",
       "    </tr>\n",
       "    <tr>\n",
       "      <th>4</th>\n",
       "      <td>2014-05-18</td>\n",
       "      <td>13</td>\n",
       "      <td>449.4700</td>\n",
       "    </tr>\n",
       "    <tr>\n",
       "      <th>5</th>\n",
       "      <td>2014-05-25</td>\n",
       "      <td>15</td>\n",
       "      <td>NaN</td>\n",
       "    </tr>\n",
       "    <tr>\n",
       "      <th>6</th>\n",
       "      <td>2014-06-01</td>\n",
       "      <td>14</td>\n",
       "      <td>680.0000</td>\n",
       "    </tr>\n",
       "    <tr>\n",
       "      <th>7</th>\n",
       "      <td>2014-06-08</td>\n",
       "      <td>14</td>\n",
       "      <td>664.5000</td>\n",
       "    </tr>\n",
       "    <tr>\n",
       "      <th>8</th>\n",
       "      <td>2014-06-15</td>\n",
       "      <td>13</td>\n",
       "      <td>588.0000</td>\n",
       "    </tr>\n",
       "    <tr>\n",
       "      <th>9</th>\n",
       "      <td>2014-06-22</td>\n",
       "      <td>11</td>\n",
       "      <td>615.0000</td>\n",
       "    </tr>\n",
       "    <tr>\n",
       "      <th>10</th>\n",
       "      <td>2014-06-29</td>\n",
       "      <td>12</td>\n",
       "      <td>603.7700</td>\n",
       "    </tr>\n",
       "    <tr>\n",
       "      <th>11</th>\n",
       "      <td>2014-07-06</td>\n",
       "      <td>12</td>\n",
       "      <td>644.6900</td>\n",
       "    </tr>\n",
       "    <tr>\n",
       "      <th>12</th>\n",
       "      <td>2014-07-13</td>\n",
       "      <td>13</td>\n",
       "      <td>638.2100</td>\n",
       "    </tr>\n",
       "    <tr>\n",
       "      <th>13</th>\n",
       "      <td>2014-07-20</td>\n",
       "      <td>12</td>\n",
       "      <td>629.5000</td>\n",
       "    </tr>\n",
       "    <tr>\n",
       "      <th>14</th>\n",
       "      <td>2014-07-27</td>\n",
       "      <td>12</td>\n",
       "      <td>599.7800</td>\n",
       "    </tr>\n",
       "    <tr>\n",
       "      <th>15</th>\n",
       "      <td>2014-08-03</td>\n",
       "      <td>12</td>\n",
       "      <td>NaN</td>\n",
       "    </tr>\n",
       "    <tr>\n",
       "      <th>16</th>\n",
       "      <td>2014-08-10</td>\n",
       "      <td>14</td>\n",
       "      <td>594.4900</td>\n",
       "    </tr>\n",
       "    <tr>\n",
       "      <th>17</th>\n",
       "      <td>2014-08-17</td>\n",
       "      <td>13</td>\n",
       "      <td>522.4300</td>\n",
       "    </tr>\n",
       "    <tr>\n",
       "      <th>18</th>\n",
       "      <td>2014-08-24</td>\n",
       "      <td>11</td>\n",
       "      <td>517.7000</td>\n",
       "    </tr>\n",
       "    <tr>\n",
       "      <th>19</th>\n",
       "      <td>2014-08-31</td>\n",
       "      <td>13</td>\n",
       "      <td>500.7500</td>\n",
       "    </tr>\n",
       "    <tr>\n",
       "      <th>20</th>\n",
       "      <td>2014-09-07</td>\n",
       "      <td>14</td>\n",
       "      <td>487.1000</td>\n",
       "    </tr>\n",
       "    <tr>\n",
       "      <th>21</th>\n",
       "      <td>2014-09-14</td>\n",
       "      <td>12</td>\n",
       "      <td>481.5600</td>\n",
       "    </tr>\n",
       "    <tr>\n",
       "      <th>22</th>\n",
       "      <td>2014-09-21</td>\n",
       "      <td>13</td>\n",
       "      <td>414.5000</td>\n",
       "    </tr>\n",
       "    <tr>\n",
       "      <th>23</th>\n",
       "      <td>2014-09-28</td>\n",
       "      <td>12</td>\n",
       "      <td>NaN</td>\n",
       "    </tr>\n",
       "    <tr>\n",
       "      <th>24</th>\n",
       "      <td>2014-10-05</td>\n",
       "      <td>15</td>\n",
       "      <td>346.6900</td>\n",
       "    </tr>\n",
       "    <tr>\n",
       "      <th>25</th>\n",
       "      <td>2014-10-12</td>\n",
       "      <td>12</td>\n",
       "      <td>380.0000</td>\n",
       "    </tr>\n",
       "    <tr>\n",
       "      <th>26</th>\n",
       "      <td>2014-10-19</td>\n",
       "      <td>11</td>\n",
       "      <td>394.5000</td>\n",
       "    </tr>\n",
       "    <tr>\n",
       "      <th>27</th>\n",
       "      <td>2014-10-26</td>\n",
       "      <td>11</td>\n",
       "      <td>359.9000</td>\n",
       "    </tr>\n",
       "    <tr>\n",
       "      <th>28</th>\n",
       "      <td>2014-11-02</td>\n",
       "      <td>11</td>\n",
       "      <td>329.5500</td>\n",
       "    </tr>\n",
       "    <tr>\n",
       "      <th>29</th>\n",
       "      <td>2014-11-09</td>\n",
       "      <td>13</td>\n",
       "      <td>361.0000</td>\n",
       "    </tr>\n",
       "    <tr>\n",
       "      <th>...</th>\n",
       "      <td>...</td>\n",
       "      <td>...</td>\n",
       "      <td>...</td>\n",
       "    </tr>\n",
       "    <tr>\n",
       "      <th>141</th>\n",
       "      <td>2017-01-01</td>\n",
       "      <td>38</td>\n",
       "      <td>968.2000</td>\n",
       "    </tr>\n",
       "    <tr>\n",
       "      <th>142</th>\n",
       "      <td>2017-01-08</td>\n",
       "      <td>29</td>\n",
       "      <td>911.0900</td>\n",
       "    </tr>\n",
       "    <tr>\n",
       "      <th>143</th>\n",
       "      <td>2017-01-15</td>\n",
       "      <td>23</td>\n",
       "      <td>838.5400</td>\n",
       "    </tr>\n",
       "    <tr>\n",
       "      <th>144</th>\n",
       "      <td>2017-01-22</td>\n",
       "      <td>21</td>\n",
       "      <td>931.0100</td>\n",
       "    </tr>\n",
       "    <tr>\n",
       "      <th>145</th>\n",
       "      <td>2017-01-29</td>\n",
       "      <td>22</td>\n",
       "      <td>923.9900</td>\n",
       "    </tr>\n",
       "    <tr>\n",
       "      <th>146</th>\n",
       "      <td>2017-02-05</td>\n",
       "      <td>24</td>\n",
       "      <td>1040.0000</td>\n",
       "    </tr>\n",
       "    <tr>\n",
       "      <th>147</th>\n",
       "      <td>2017-02-12</td>\n",
       "      <td>22</td>\n",
       "      <td>1009.0000</td>\n",
       "    </tr>\n",
       "    <tr>\n",
       "      <th>148</th>\n",
       "      <td>2017-02-19</td>\n",
       "      <td>26</td>\n",
       "      <td>1071.1000</td>\n",
       "    </tr>\n",
       "    <tr>\n",
       "      <th>149</th>\n",
       "      <td>2017-02-26</td>\n",
       "      <td>31</td>\n",
       "      <td>1189.9000</td>\n",
       "    </tr>\n",
       "    <tr>\n",
       "      <th>150</th>\n",
       "      <td>2017-03-05</td>\n",
       "      <td>35</td>\n",
       "      <td>1291.9000</td>\n",
       "    </tr>\n",
       "    <tr>\n",
       "      <th>151</th>\n",
       "      <td>2017-03-12</td>\n",
       "      <td>30</td>\n",
       "      <td>1196.6000</td>\n",
       "    </tr>\n",
       "    <tr>\n",
       "      <th>152</th>\n",
       "      <td>2017-03-19</td>\n",
       "      <td>29</td>\n",
       "      <td>NaN</td>\n",
       "    </tr>\n",
       "    <tr>\n",
       "      <th>153</th>\n",
       "      <td>2017-03-26</td>\n",
       "      <td>25</td>\n",
       "      <td>1006.0000</td>\n",
       "    </tr>\n",
       "    <tr>\n",
       "      <th>154</th>\n",
       "      <td>2017-04-02</td>\n",
       "      <td>25</td>\n",
       "      <td>1118.2000</td>\n",
       "    </tr>\n",
       "    <tr>\n",
       "      <th>155</th>\n",
       "      <td>2017-04-09</td>\n",
       "      <td>25</td>\n",
       "      <td>1226.9000</td>\n",
       "    </tr>\n",
       "    <tr>\n",
       "      <th>156</th>\n",
       "      <td>2017-04-16</td>\n",
       "      <td>24</td>\n",
       "      <td>1217.6000</td>\n",
       "    </tr>\n",
       "    <tr>\n",
       "      <th>157</th>\n",
       "      <td>2017-04-23</td>\n",
       "      <td>27</td>\n",
       "      <td>1359.0000</td>\n",
       "    </tr>\n",
       "    <tr>\n",
       "      <th>158</th>\n",
       "      <td>2017-04-30</td>\n",
       "      <td>37</td>\n",
       "      <td>1443.7000</td>\n",
       "    </tr>\n",
       "    <tr>\n",
       "      <th>159</th>\n",
       "      <td>2017-05-07</td>\n",
       "      <td>51</td>\n",
       "      <td>1624.2000</td>\n",
       "    </tr>\n",
       "    <tr>\n",
       "      <th>160</th>\n",
       "      <td>2017-05-14</td>\n",
       "      <td>60</td>\n",
       "      <td>1852.4000</td>\n",
       "    </tr>\n",
       "    <tr>\n",
       "      <th>161</th>\n",
       "      <td>2017-05-21</td>\n",
       "      <td>100</td>\n",
       "      <td>2099.1000</td>\n",
       "    </tr>\n",
       "    <tr>\n",
       "      <th>162</th>\n",
       "      <td>2017-05-28</td>\n",
       "      <td>66</td>\n",
       "      <td>2194.4000</td>\n",
       "    </tr>\n",
       "    <tr>\n",
       "      <th>163</th>\n",
       "      <td>2017-06-04</td>\n",
       "      <td>65</td>\n",
       "      <td>2498.0000</td>\n",
       "    </tr>\n",
       "    <tr>\n",
       "      <th>164</th>\n",
       "      <td>2017-06-11</td>\n",
       "      <td>70</td>\n",
       "      <td>3003.0000</td>\n",
       "    </tr>\n",
       "    <tr>\n",
       "      <th>165</th>\n",
       "      <td>2017-06-18</td>\n",
       "      <td>58</td>\n",
       "      <td>2640.0000</td>\n",
       "    </tr>\n",
       "    <tr>\n",
       "      <th>166</th>\n",
       "      <td>2017-06-25</td>\n",
       "      <td>58</td>\n",
       "      <td>2595.0000</td>\n",
       "    </tr>\n",
       "    <tr>\n",
       "      <th>167</th>\n",
       "      <td>2017-07-02</td>\n",
       "      <td>48</td>\n",
       "      <td>2462.8000</td>\n",
       "    </tr>\n",
       "    <tr>\n",
       "      <th>168</th>\n",
       "      <td>2017-07-09</td>\n",
       "      <td>54</td>\n",
       "      <td>2555.7000</td>\n",
       "    </tr>\n",
       "    <tr>\n",
       "      <th>169</th>\n",
       "      <td>2017-07-16</td>\n",
       "      <td>63</td>\n",
       "      <td>2051.1000</td>\n",
       "    </tr>\n",
       "    <tr>\n",
       "      <th>170</th>\n",
       "      <td>2017-07-23</td>\n",
       "      <td>58</td>\n",
       "      <td>2877.5000</td>\n",
       "    </tr>\n",
       "  </tbody>\n",
       "</table>\n",
       "<p>171 rows × 3 columns</p>\n",
       "</div>"
      ],
      "text/plain": [
       "           Week  bitcoin      Price\n",
       "0    2014-04-20       14   517.9950\n",
       "1    2014-04-27       14   465.6000\n",
       "2    2014-05-04       13   441.9497\n",
       "3    2014-05-11       12   459.6500\n",
       "4    2014-05-18       13   449.4700\n",
       "5    2014-05-25       15        NaN\n",
       "6    2014-06-01       14   680.0000\n",
       "7    2014-06-08       14   664.5000\n",
       "8    2014-06-15       13   588.0000\n",
       "9    2014-06-22       11   615.0000\n",
       "10   2014-06-29       12   603.7700\n",
       "11   2014-07-06       12   644.6900\n",
       "12   2014-07-13       13   638.2100\n",
       "13   2014-07-20       12   629.5000\n",
       "14   2014-07-27       12   599.7800\n",
       "15   2014-08-03       12        NaN\n",
       "16   2014-08-10       14   594.4900\n",
       "17   2014-08-17       13   522.4300\n",
       "18   2014-08-24       11   517.7000\n",
       "19   2014-08-31       13   500.7500\n",
       "20   2014-09-07       14   487.1000\n",
       "21   2014-09-14       12   481.5600\n",
       "22   2014-09-21       13   414.5000\n",
       "23   2014-09-28       12        NaN\n",
       "24   2014-10-05       15   346.6900\n",
       "25   2014-10-12       12   380.0000\n",
       "26   2014-10-19       11   394.5000\n",
       "27   2014-10-26       11   359.9000\n",
       "28   2014-11-02       11   329.5500\n",
       "29   2014-11-09       13   361.0000\n",
       "..          ...      ...        ...\n",
       "141  2017-01-01       38   968.2000\n",
       "142  2017-01-08       29   911.0900\n",
       "143  2017-01-15       23   838.5400\n",
       "144  2017-01-22       21   931.0100\n",
       "145  2017-01-29       22   923.9900\n",
       "146  2017-02-05       24  1040.0000\n",
       "147  2017-02-12       22  1009.0000\n",
       "148  2017-02-19       26  1071.1000\n",
       "149  2017-02-26       31  1189.9000\n",
       "150  2017-03-05       35  1291.9000\n",
       "151  2017-03-12       30  1196.6000\n",
       "152  2017-03-19       29        NaN\n",
       "153  2017-03-26       25  1006.0000\n",
       "154  2017-04-02       25  1118.2000\n",
       "155  2017-04-09       25  1226.9000\n",
       "156  2017-04-16       24  1217.6000\n",
       "157  2017-04-23       27  1359.0000\n",
       "158  2017-04-30       37  1443.7000\n",
       "159  2017-05-07       51  1624.2000\n",
       "160  2017-05-14       60  1852.4000\n",
       "161  2017-05-21      100  2099.1000\n",
       "162  2017-05-28       66  2194.4000\n",
       "163  2017-06-04       65  2498.0000\n",
       "164  2017-06-11       70  3003.0000\n",
       "165  2017-06-18       58  2640.0000\n",
       "166  2017-06-25       58  2595.0000\n",
       "167  2017-07-02       48  2462.8000\n",
       "168  2017-07-09       54  2555.7000\n",
       "169  2017-07-16       63  2051.1000\n",
       "170  2017-07-23       58  2877.5000\n",
       "\n",
       "[171 rows x 3 columns]"
      ]
     },
     "execution_count": 268,
     "metadata": {},
     "output_type": "execute_result"
    }
   ],
   "source": [
    "bitcoin"
   ]
  },
  {
   "cell_type": "code",
   "execution_count": 269,
   "metadata": {
    "collapsed": false
   },
   "outputs": [],
   "source": [
    "# Drop weeks for which there are missing values \n",
    "bitcoin = bitcoin.dropna(axis=0, how='any')"
   ]
  },
  {
   "cell_type": "code",
   "execution_count": 270,
   "metadata": {
    "collapsed": false
   },
   "outputs": [],
   "source": [
    "data = bitcoin[['bitcoin','Price']].values"
   ]
  },
  {
   "cell_type": "code",
   "execution_count": 271,
   "metadata": {
    "collapsed": false
   },
   "outputs": [
    {
     "data": {
      "image/png": "[encoded data removed]",
      "text/plain": [
       "<matplotlib.figure.Figure at 0x7f6f6de08b70>"
      ]
     },
     "metadata": {},
     "output_type": "display_data"
    }
   ],
   "source": [
    "plt.plot(data[:,1],data[:,0], \"bo\")\n",
    "plt.xlabel('price (USD)')\n",
    "plt.ylabel('Google Trends Score')\n",
    "plt.show()"
   ]
  },
  {
   "cell_type": "code",
   "execution_count": 272,
   "metadata": {
    "collapsed": true
   },
   "outputs": [],
   "source": [
    "# Normalize the data\n",
    "X = (data[:,1] - np.mean(data[:,1]))/np.std(data[:, 1])\n",
    "Y = (data[:,0] - np.mean(data[:,0]))/np.std(data[:, 0])"
   ]
  },
  {
   "cell_type": "code",
   "execution_count": 273,
   "metadata": {
    "collapsed": false
   },
   "outputs": [
    {
     "data": {
      "image/png": "[encoded data removed]",
      "text/plain": [
       "<matplotlib.figure.Figure at 0x7f6f6ba1c6d8>"
      ]
     },
     "metadata": {},
     "output_type": "display_data"
    }
   ],
   "source": [
    "plt.plot(X,Y, \"bo\")\n",
    "plt.xlabel('price (USD)')\n",
    "plt.ylabel('Google Trends Score')\n",
    "plt.show()"
   ]
  },
  {
   "cell_type": "code",
   "execution_count": 274,
   "metadata": {
    "collapsed": true
   },
   "outputs": [],
   "source": [
    "def simplest_neural_net(x, y, epochs, learning_rate):\n",
    "    weights = np.array([0, 0])\n",
    "    bias = 1.\n",
    "    for e in range(epochs):\n",
    "        gradient = np.array([0., 0.])\n",
    "        for i in range(len(x)):\n",
    "            xi = x[i]\n",
    "            xi = np.array([bias, xi])\n",
    "            yi = y[i]\n",
    "            \n",
    "            h = np.dot(weights, xi) - yi\n",
    "            gradient += 2*xi*h\n",
    "        \n",
    "        weights = weights - learning_rate*gradient\n",
    "    return weights[1], weights[0]"
   ]
  },
  {
   "cell_type": "code",
   "execution_count": 278,
   "metadata": {
    "collapsed": false
   },
   "outputs": [],
   "source": [
    "# Here the ideal values for slope and y-intercept are converged upon\n",
    "m, b = simplest_neural_net(X,Y,100, 1e-3)\n",
    "target_m = m\n",
    "target_b = b"
   ]
  },
  {
   "cell_type": "code",
   "execution_count": 279,
   "metadata": {
    "collapsed": true
   },
   "outputs": [],
   "source": [
    "x_points = np.linspace(np.min(X), np.max(X), 10)\n",
    "line = b + m*x_points"
   ]
  },
  {
   "cell_type": "code",
   "execution_count": 280,
   "metadata": {
    "collapsed": false
   },
   "outputs": [
    {
     "data": {
      "image/png": "[encoded data removed]",
      "text/plain": [
       "<matplotlib.figure.Figure at 0x7f6f6bca40b8>"
      ]
     },
     "metadata": {},
     "output_type": "display_data"
    }
   ],
   "source": [
    "plt.plot(X,Y, 'bo', x_points, line, 'r-')\n",
    "plt.show()"
   ]
  },
  {
   "cell_type": "markdown",
   "metadata": {},
   "source": [
    "Cool, there seems to be a correlation here based on the line of best fit produced by the neural net's emulation of linear regression. Maybe you should check Google Trends next time you are thinking about buying bitcoin.\n",
    "\n",
    "But deciding if we should buy bitcoin or not isn't why we are here...\n",
    "\n",
    "# Learning Rate Optimization\n",
    "\n",
    "To perform a bayesian optimization of the learning rate I will take the value for the *slope* and *y intercept* that I converged upon over many epochs above and use those values as a model in an evalutation function. In the evaluation function below I drastically reduced the amount of epochs the nerual net is being given to fit the data. Given it doesn't have enough epochs to converge on the ideal *slope* and *y intercept* we will be able to see which learning rate gets the neural net closest to the ideal values in a short amount of epochs."
   ]
  },
  {
   "cell_type": "code",
   "execution_count": 291,
   "metadata": {
    "collapsed": false
   },
   "outputs": [],
   "source": [
    "from sklearn.metrics import mean_squared_error\n",
    "\n",
    "def evaluation_fxn(x, y, learn_rate, ideal_m, ideal_b):\n",
    "    x_points = np.linspace(np.min(x), np.max(x), 10)\n",
    "    ideal_line = ideal_m*x_points + ideal_b\n",
    "    m, b = simplest_neural_net(x,y,5,learn_rate)\n",
    "    test_line = m*x_points + b\n",
    "    \n",
    "    return 1 - mean_squared_error(ideal_line, test_line)\n",
    "    "
   ]
  },
  {
   "cell_type": "code",
   "execution_count": 292,
   "metadata": {
    "collapsed": false
   },
   "outputs": [],
   "source": [
    "# Make some inital guesses about the learning rate and evaluate them\n",
    "# The Gaussian Process will be fit to this data initially.\n",
    "guesses = [6e-3,1e-3,1e-4]\n",
    "\n",
    "outcomes = [evaluation_fxn(X,Y,guess, target_m, target_b)\n",
    "                     for guess in initial_guesses]\n"
   ]
  },
  {
   "cell_type": "code",
   "execution_count": 293,
   "metadata": {
    "collapsed": false
   },
   "outputs": [],
   "source": [
    "from sklearn.gaussian_process import GaussianProcess\n",
    "import warnings\n",
    "warnings.filterwarnings('ignore')"
   ]
  },
  {
   "cell_type": "code",
   "execution_count": 294,
   "metadata": {
    "collapsed": false
   },
   "outputs": [
    {
     "data": {
      "image/png": "[encoded data removed]",
      "text/plain": [
       "<matplotlib.figure.Figure at 0x7f6f6de8bf28>"
      ]
     },
     "metadata": {},
     "output_type": "display_data"
    }
   ],
   "source": [
    "plt.plot(guesses,outcomes,'ro')\n",
    "plt.xlabel('learning rate guesses')\n",
    "plt.ylabel('score out of 1')\n",
    "plt.show()"
   ]
  },
  {
   "cell_type": "code",
   "execution_count": 295,
   "metadata": {
    "collapsed": true
   },
   "outputs": [],
   "source": [
    "def hyperparam_selection(guesses, outcomes):\n",
    "    guesses = np.array(guesses)\n",
    "    outcomes = np.array(outcomes)\n",
    "    gp = GaussianProcess(corr='squared_exponential',\n",
    "                         theta0=1e-1, thetaL=1e-3, thetaU=1)\n",
    "    \n",
    "    gp.fit(guesses.reshape((-1,1)), outcomes)\n",
    "    \n",
    "    x = np.linspace(np.min(guesses), np.max(guesses), 10)\n",
    "    \n",
    "    mean, var = gp.predict(x.reshape((-1,1)), eval_MSE=True)\n",
    "    idx = mean.argmax()\n",
    "    \n",
    "    next_param = x[idx]\n",
    "    \n",
    "    plt.plot(guesses,outcomes,'ro')\n",
    "    plt.plot(x,mean, 'b--')\n",
    "    plt.xlabel('learning rate')\n",
    "    plt.ylabel('score out of 1')\n",
    "    plt.show()\n",
    "    \n",
    "    return next_param"
   ]
  },
  {
   "cell_type": "code",
   "execution_count": 296,
   "metadata": {
    "collapsed": false
   },
   "outputs": [
    {
     "data": {
      "image/png": "[encoded data removed]",
      "text/plain": [
       "<matplotlib.figure.Figure at 0x7f6f6b948198>"
      ]
     },
     "metadata": {},
     "output_type": "display_data"
    },
    {
     "data": {
      "text/plain": [
       "0.0020666666666666663"
      ]
     },
     "execution_count": 296,
     "metadata": {},
     "output_type": "execute_result"
    }
   ],
   "source": [
    "hyperparam_selection(guesses,outcomes)"
   ]
  },
  {
   "cell_type": "code",
   "execution_count": 297,
   "metadata": {
    "collapsed": false
   },
   "outputs": [
    {
     "data": {
      "image/png": "[encoded data removed]",
      "text/plain": [
       "<matplotlib.figure.Figure at 0x7f6f6bc964e0>"
      ]
     },
     "metadata": {},
     "output_type": "display_data"
    },
    {
     "name": "stdout",
     "output_type": "stream",
     "text": [
      "0.00206666666667\n"
     ]
    },
    {
     "data": {
      "image/png": "[encoded data removed]",
      "text/plain": [
       "<matplotlib.figure.Figure at 0x7f6f6de7c940>"
      ]
     },
     "metadata": {},
     "output_type": "display_data"
    },
    {
     "name": "stdout",
     "output_type": "stream",
     "text": [
      "0.00141111111111\n"
     ]
    },
    {
     "data": {
      "image/png": "[encoded data removed]",
      "text/plain": [
       "<matplotlib.figure.Figure at 0x7f6f6de9e828>"
      ]
     },
     "metadata": {},
     "output_type": "display_data"
    },
    {
     "name": "stdout",
     "output_type": "stream",
     "text": [
      "0.00337777777778\n"
     ]
    },
    {
     "data": {
      "image/png": "[encoded data removed]",
      "text/plain": [
       "<matplotlib.figure.Figure at 0x7f6f6bbb5470>"
      ]
     },
     "metadata": {},
     "output_type": "display_data"
    },
    {
     "name": "stdout",
     "output_type": "stream",
     "text": [
      "0.00272222222222\n"
     ]
    },
    {
     "data": {
      "image/png": "[encoded data removed]",
      "text/plain": [
       "<matplotlib.figure.Figure at 0x7f6f6bd63358>"
      ]
     },
     "metadata": {},
     "output_type": "display_data"
    },
    {
     "name": "stdout",
     "output_type": "stream",
     "text": [
      "0.00403333333333\n"
     ]
    },
    {
     "data": {
      "image/png": "[encoded data removed]",
      "text/plain": [
       "<matplotlib.figure.Figure at 0x7f6f6ba23860>"
      ]
     },
     "metadata": {},
     "output_type": "display_data"
    },
    {
     "name": "stdout",
     "output_type": "stream",
     "text": [
      "0.00272222222222\n",
      "optimal learning rate found\n"
     ]
    }
   ],
   "source": [
    "for _ in range(10):\n",
    "    \n",
    "    try:\n",
    "        new_learning_rate = hyperparam_selection(guesses,outcomes) \n",
    "    except:\n",
    "        print(\"optimal learning rate found\")\n",
    "        break\n",
    "    guesses.append(new_learning_rate)\n",
    "    score = evaluation_fxn(X,Y,new_learning_rate, target_m, target_b)\n",
    "    if score in outcomes:\n",
    "        score -= 1.1\n",
    "    print(new_learning_rate)\n",
    "    outcomes.append(score)"
   ]
  },
  {
   "cell_type": "code",
   "execution_count": null,
   "metadata": {
    "collapsed": true
   },
   "outputs": [],
   "source": []
  },
  {
   "cell_type": "code",
   "execution_count": null,
   "metadata": {
    "collapsed": true
   },
   "outputs": [],
   "source": []
  }
 ],
 "metadata": {
  "kernelspec": {
   "display_name": "Python 3",
   "language": "python",
   "name": "python3"
  },
  "language_info": {
   "codemirror_mode": {
    "name": "ipython",
    "version": 3
   },
   "file_extension": ".py",
   "mimetype": "text/x-python",
   "name": "python",
   "nbconvert_exporter": "python",
   "pygments_lexer": "ipython3",
   "version": "3.5.0"
  }
 },
 "nbformat": 4,
 "nbformat_minor": 2
}
